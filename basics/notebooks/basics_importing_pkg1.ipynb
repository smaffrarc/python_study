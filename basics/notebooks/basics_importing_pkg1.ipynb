{
 "cells": [
  {
   "cell_type": "code",
   "execution_count": 1,
   "id": "88e5e608-8db9-407c-9c21-8b25a44a28fb",
   "metadata": {},
   "outputs": [],
   "source": [
    "import pkg1"
   ]
  },
  {
   "cell_type": "code",
   "execution_count": 8,
   "id": "1b8d2b1b-c79f-43be-b3a0-ee1108dc921f",
   "metadata": {},
   "outputs": [
    {
     "data": {
      "text/plain": [
       "100.0"
      ]
     },
     "execution_count": 8,
     "metadata": {},
     "output_type": "execute_result"
    }
   ],
   "source": [
    "pkg1.compute1(10.0)"
   ]
  },
  {
   "cell_type": "code",
   "execution_count": 7,
   "id": "cf4e3d57-7860-4a3c-b979-c449f72798b9",
   "metadata": {},
   "outputs": [
    {
     "data": {
      "text/plain": [
       "np.float64(-0.5063656411097588)"
      ]
     },
     "execution_count": 7,
     "metadata": {},
     "output_type": "execute_result"
    }
   ],
   "source": [
    "pkg1.compute2(10.0)"
   ]
  }
 ],
 "metadata": {
  "kernelspec": {
   "display_name": "Python 3 (ipykernel)",
   "language": "python",
   "name": "python3"
  },
  "language_info": {
   "codemirror_mode": {
    "name": "ipython",
    "version": 3
   },
   "file_extension": ".py",
   "mimetype": "text/x-python",
   "name": "python",
   "nbconvert_exporter": "python",
   "pygments_lexer": "ipython3",
   "version": "3.10.16"
  }
 },
 "nbformat": 4,
 "nbformat_minor": 5
}
